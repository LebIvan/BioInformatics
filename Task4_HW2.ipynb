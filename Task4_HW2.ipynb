{
 "cells": [
  {
   "cell_type": "code",
   "execution_count": 1,
   "metadata": {},
   "outputs": [],
   "source": [
    "import re"
   ]
  },
  {
   "cell_type": "code",
   "execution_count": 2,
   "metadata": {},
   "outputs": [],
   "source": [
    "# RefSeq: NC_000021.9\n",
    "file = open('sequence.fasta')\n",
    "seq = file.read()\n",
    "seq = re.sub(r\"\\n\", \"\", seq)\n",
    "seq = seq[68:]"
   ]
  },
  {
   "cell_type": "markdown",
   "metadata": {},
   "source": [
    "$\\textbf{Task a.}$"
   ]
  },
  {
   "cell_type": "code",
   "execution_count": 3,
   "metadata": {},
   "outputs": [
    {
     "name": "stdout",
     "output_type": "stream",
     "text": [
      "Number of 'N': 6621361\n"
     ]
    }
   ],
   "source": [
    "count = 0\n",
    "for i in seq:\n",
    "    if(i == 'N'):\n",
    "        count += 1\n",
    "print('Number of \\'N\\': ' + str(count))"
   ]
  },
  {
   "cell_type": "markdown",
   "metadata": {},
   "source": [
    "$\\textbf{Task b.}$"
   ]
  },
  {
   "cell_type": "code",
   "execution_count": 4,
   "metadata": {},
   "outputs": [],
   "source": [
    "def NumOfSubseqN(length):\n",
    "    count = 0\n",
    "    tmp = 0\n",
    "    for i in seq:\n",
    "        if(i == 'N'):\n",
    "            tmp += 1\n",
    "        if(i != 'N' and tmp < length):\n",
    "            tmp = 0\n",
    "        if(i != 'N' and tmp >= length):\n",
    "            count += 1\n",
    "            tmp = 0\n",
    "    return count\n"
   ]
  },
  {
   "cell_type": "code",
   "execution_count": 5,
   "metadata": {},
   "outputs": [
    {
     "name": "stdout",
     "output_type": "stream",
     "text": [
      "Number of subsequences of 'N' longer than 1000: 29\n"
     ]
    }
   ],
   "source": [
    "length = 1000\n",
    "count = NumOfSubseqN(length)\n",
    "print('Number of subsequences of \\'N\\' longer than ' + str(length) + ': ' + str(count))"
   ]
  },
  {
   "cell_type": "code",
   "execution_count": 6,
   "metadata": {},
   "outputs": [
    {
     "name": "stdout",
     "output_type": "stream",
     "text": [
      "Number of subsequences of 'N' longer than 3: 47\n"
     ]
    }
   ],
   "source": [
    "length = 3\n",
    "count = NumOfSubseqN(length)\n",
    "print('Number of subsequences of \\'N\\' longer than ' + str(length) + ': ' + str(count))"
   ]
  },
  {
   "cell_type": "code",
   "execution_count": null,
   "metadata": {},
   "outputs": [],
   "source": []
  }
 ],
 "metadata": {
  "kernelspec": {
   "display_name": "Python 3",
   "language": "python",
   "name": "python3"
  },
  "language_info": {
   "codemirror_mode": {
    "name": "ipython",
    "version": 3
   },
   "file_extension": ".py",
   "mimetype": "text/x-python",
   "name": "python",
   "nbconvert_exporter": "python",
   "pygments_lexer": "ipython3",
   "version": "3.7.6"
  }
 },
 "nbformat": 4,
 "nbformat_minor": 4
}
