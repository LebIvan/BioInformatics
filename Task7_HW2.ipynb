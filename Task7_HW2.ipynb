{
 "cells": [
  {
   "cell_type": "code",
   "execution_count": 1,
   "metadata": {},
   "outputs": [],
   "source": [
    "import re\n",
    "import numpy as np"
   ]
  },
  {
   "cell_type": "code",
   "execution_count": 2,
   "metadata": {},
   "outputs": [],
   "source": [
    "# RefSeq: NC_000001.11\n",
    "file = open('sequence2.fasta')\n",
    "seq = file.read()\n",
    "seq = re.sub(r\"\\n\", \"\", seq)\n",
    "seq = seq[68:]"
   ]
  },
  {
   "cell_type": "code",
   "execution_count": 3,
   "metadata": {},
   "outputs": [],
   "source": [
    "def f(seq, A, B):\n",
    "    count_A = 0\n",
    "    count_B = 0\n",
    "    for i in seq:\n",
    "        if(A == i):\n",
    "            count_A += 1\n",
    "        if(B == i):\n",
    "            count_B += 1\n",
    "    return (count_A + count_B)/len(seq)\n",
    "\n",
    "def C(seq, A, B, ff):\n",
    "    count_AB = 0\n",
    "    for i in range(len(seq)-1):\n",
    "        if(seq[i]+seq[i+1] == A+B):\n",
    "            count_AB += 1\n",
    "    expected = Expected(seq, A, B, ff)\n",
    "    if(abs(expected) < 1e-16 and count_AB == 0):\n",
    "        return 0.5\n",
    "    elif(abs(expected) < 1e-16):\n",
    "        return 100\n",
    "    return count_AB/expected\n",
    "\n",
    "def Expected(seq, A, B, ff):\n",
    "    tmp = f(seq, A, B)\n",
    "    ff.append(tmp)\n",
    "    return (tmp**2)*len(seq)\n",
    "\n",
    "def IsUndeOverRepresentationIsland(seq, left_border, right_border, A, B, ff):\n",
    "    return C(seq[left_border:right_border], A, B, ff)\n",
    "    \n",
    "    \n",
    "def UndeOverRepresentationIslands(seq, length, A, B):\n",
    "    left_border = 0\n",
    "    right_border = length\n",
    "    under_representation = []\n",
    "    over_representation = []\n",
    "    ff = []\n",
    "    \n",
    "    for i in range(len(seq)//length):\n",
    "        C = IsUndeOverRepresentationIsland(seq, left_border, right_border, A, B, ff)\n",
    "        if(C > 0.7 and abs(C-100) > 1e-16):\n",
    "            over_representation.append([left_border, right_border, C])\n",
    "        elif(C < 0.37):\n",
    "            under_representation.append([left_border, right_border, C])\n",
    "    \n",
    "        left_border = right_border\n",
    "        if(right_border+length < len(seq)):\n",
    "            right_border = right_border+length\n",
    "        else:\n",
    "            right_border = len(seq)\n",
    "        #print('[' + str(left_border) + ',' + str(right_border) + ']')\n",
    "    return under_representation, over_representation, ff"
   ]
  },
  {
   "cell_type": "code",
   "execution_count": 4,
   "metadata": {},
   "outputs": [],
   "source": [
    "under, over, ff = UndeOverRepresentationIslands(seq, 1000, 'T','A')"
   ]
  },
  {
   "cell_type": "code",
   "execution_count": 5,
   "metadata": {},
   "outputs": [
    {
     "data": {
      "text/plain": [
       "array([[1.10000000e+04, 1.20000000e+04, 1.86737787e-01],\n",
       "       [1.20000000e+04, 1.30000000e+04, 1.25000000e-01],\n",
       "       [1.30000000e+04, 1.40000000e+04, 1.16262976e-01],\n",
       "       ...,\n",
       "       [2.48942000e+08, 2.48943000e+08, 1.82067887e-01],\n",
       "       [2.48943000e+08, 2.48944000e+08, 1.82392303e-01],\n",
       "       [2.48944000e+08, 2.48945000e+08, 2.24965744e-01]])"
      ]
     },
     "execution_count": 5,
     "metadata": {},
     "output_type": "execute_result"
    }
   ],
   "source": [
    "np.array(under)"
   ]
  },
  {
   "cell_type": "code",
   "execution_count": 6,
   "metadata": {},
   "outputs": [
    {
     "data": {
      "text/plain": [
       "array([[3.47000000e+05, 3.48000000e+05, 2.50000000e+00],\n",
       "       [1.67990000e+07, 1.68000000e+07, 1.21687399e+00],\n",
       "       [2.95530000e+07, 2.95540000e+07, 1.11383382e+00],\n",
       "       [1.25130000e+08, 1.25131000e+08, 8.81269027e-01],\n",
       "       [1.25131000e+08, 1.25132000e+08, 1.24947938e+00],\n",
       "       [2.23608000e+08, 2.23609000e+08, 3.82653061e+00],\n",
       "       [2.48946000e+08, 2.48947000e+08, 1.50000000e+00]])"
      ]
     },
     "execution_count": 6,
     "metadata": {},
     "output_type": "execute_result"
    }
   ],
   "source": [
    "np.array(over)"
   ]
  },
  {
   "cell_type": "markdown",
   "metadata": {},
   "source": [
    "Найдем среднюю предполагаемую частоту TpA"
   ]
  },
  {
   "cell_type": "code",
   "execution_count": 8,
   "metadata": {},
   "outputs": [],
   "source": [
    "ff = np.array(ff)"
   ]
  },
  {
   "cell_type": "code",
   "execution_count": 9,
   "metadata": {},
   "outputs": [
    {
     "data": {
      "text/plain": [
       "0.5395107609376757"
      ]
     },
     "execution_count": 9,
     "metadata": {},
     "output_type": "execute_result"
    }
   ],
   "source": [
    "ff.mean()"
   ]
  },
  {
   "cell_type": "code",
   "execution_count": 10,
   "metadata": {},
   "outputs": [
    {
     "data": {
      "text/plain": [
       "0.1686548536396452"
      ]
     },
     "execution_count": 10,
     "metadata": {},
     "output_type": "execute_result"
    }
   ],
   "source": [
    "ff.std()"
   ]
  },
  {
   "cell_type": "markdown",
   "metadata": {},
   "source": [
    "Будет логичным взять значение среднего +- стандартное отклонение в качетсве пороговых значений"
   ]
  },
  {
   "cell_type": "code",
   "execution_count": 11,
   "metadata": {},
   "outputs": [
    {
     "data": {
      "text/plain": [
       "0.7081656145773209"
      ]
     },
     "execution_count": 11,
     "metadata": {},
     "output_type": "execute_result"
    }
   ],
   "source": [
    "ff.mean() + ff.std()"
   ]
  },
  {
   "cell_type": "code",
   "execution_count": 12,
   "metadata": {},
   "outputs": [
    {
     "data": {
      "text/plain": [
       "0.37085590729803053"
      ]
     },
     "execution_count": 12,
     "metadata": {},
     "output_type": "execute_result"
    }
   ],
   "source": [
    "ff.mean() - ff.std()"
   ]
  },
  {
   "cell_type": "code",
   "execution_count": 13,
   "metadata": {},
   "outputs": [
    {
     "data": {
      "text/plain": [
       "230375"
      ]
     },
     "execution_count": 13,
     "metadata": {},
     "output_type": "execute_result"
    }
   ],
   "source": [
    "len(under)"
   ]
  },
  {
   "cell_type": "code",
   "execution_count": 14,
   "metadata": {},
   "outputs": [
    {
     "data": {
      "text/plain": [
       "7"
      ]
     },
     "execution_count": 14,
     "metadata": {},
     "output_type": "execute_result"
    }
   ],
   "source": [
    "len(over)"
   ]
  },
  {
   "cell_type": "code",
   "execution_count": null,
   "metadata": {},
   "outputs": [],
   "source": []
  }
 ],
 "metadata": {
  "kernelspec": {
   "display_name": "Python 3",
   "language": "python",
   "name": "python3"
  },
  "language_info": {
   "codemirror_mode": {
    "name": "ipython",
    "version": 3
   },
   "file_extension": ".py",
   "mimetype": "text/x-python",
   "name": "python",
   "nbconvert_exporter": "python",
   "pygments_lexer": "ipython3",
   "version": "3.7.6"
  }
 },
 "nbformat": 4,
 "nbformat_minor": 4
}
